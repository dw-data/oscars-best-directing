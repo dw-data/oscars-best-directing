{
  "cells": [
    {
      "cell_type": "code",
      "execution_count": null,
      "metadata": {
        "id": "MHb7c-ZGO33d",
        "colab": {
          "base_uri": "https://localhost:8080/"
        },
        "outputId": "037ae8b1-85cf-4d98-9bab-61656d66567e"
      },
      "outputs": [
        {
          "output_type": "stream",
          "name": "stdout",
          "text": [
            "Drive already mounted at /content/drive; to attempt to forcibly remount, call drive.mount(\"/content/drive\", force_remount=True).\n"
          ]
        }
      ],
      "source": [
        "from google.colab import drive\n",
        "drive.mount('/content/drive')"
      ]
    },
    {
      "cell_type": "code",
      "source": [
        "!pip install seaborn"
      ],
      "metadata": {
        "colab": {
          "base_uri": "https://localhost:8080/"
        },
        "id": "IA0v2qeGj78d",
        "outputId": "dc99efdd-4f21-43bb-8727-09081a4423a4"
      },
      "execution_count": null,
      "outputs": [
        {
          "output_type": "stream",
          "name": "stdout",
          "text": [
            "Looking in indexes: https://pypi.org/simple, https://us-python.pkg.dev/colab-wheels/public/simple/\n",
            "Requirement already satisfied: seaborn in /usr/local/lib/python3.8/dist-packages (0.11.2)\n",
            "Requirement already satisfied: scipy>=1.0 in /usr/local/lib/python3.8/dist-packages (from seaborn) (1.7.3)\n",
            "Requirement already satisfied: numpy>=1.15 in /usr/local/lib/python3.8/dist-packages (from seaborn) (1.21.6)\n",
            "Requirement already satisfied: matplotlib>=2.2 in /usr/local/lib/python3.8/dist-packages (from seaborn) (3.2.2)\n",
            "Requirement already satisfied: pandas>=0.23 in /usr/local/lib/python3.8/dist-packages (from seaborn) (1.3.5)\n",
            "Requirement already satisfied: kiwisolver>=1.0.1 in /usr/local/lib/python3.8/dist-packages (from matplotlib>=2.2->seaborn) (1.4.4)\n",
            "Requirement already satisfied: pyparsing!=2.0.4,!=2.1.2,!=2.1.6,>=2.0.1 in /usr/local/lib/python3.8/dist-packages (from matplotlib>=2.2->seaborn) (3.0.9)\n",
            "Requirement already satisfied: cycler>=0.10 in /usr/local/lib/python3.8/dist-packages (from matplotlib>=2.2->seaborn) (0.11.0)\n",
            "Requirement already satisfied: python-dateutil>=2.1 in /usr/local/lib/python3.8/dist-packages (from matplotlib>=2.2->seaborn) (2.8.2)\n",
            "Requirement already satisfied: pytz>=2017.3 in /usr/local/lib/python3.8/dist-packages (from pandas>=0.23->seaborn) (2022.6)\n",
            "Requirement already satisfied: six>=1.5 in /usr/local/lib/python3.8/dist-packages (from python-dateutil>=2.1->matplotlib>=2.2->seaborn) (1.15.0)\n"
          ]
        }
      ]
    },
    {
      "cell_type": "code",
      "execution_count": null,
      "metadata": {
        "id": "4PTJ4rRZ7b-c",
        "colab": {
          "base_uri": "https://localhost:8080/"
        },
        "outputId": "c05e1fa1-3b38-4989-ee14-5da229b9ca5a"
      },
      "outputs": [
        {
          "output_type": "stream",
          "name": "stdout",
          "text": [
            "Looking in indexes: https://pypi.org/simple, https://us-python.pkg.dev/colab-wheels/public/simple/\n",
            "Requirement already satisfied: xlrd==2.0.1 in /usr/local/lib/python3.8/dist-packages (2.0.1)\n"
          ]
        }
      ],
      "source": [
        "!pip install xlrd==2.0.1"
      ]
    },
    {
      "cell_type": "code",
      "execution_count": null,
      "metadata": {
        "id": "mgPB5rKJ31h4"
      },
      "outputs": [],
      "source": [
        "import pandas as pd"
      ]
    },
    {
      "cell_type": "code",
      "source": [
        "import matplotlib.pyplot as plt\n",
        "import seaborn as sns"
      ],
      "metadata": {
        "id": "BwGGgoe4juv6"
      },
      "execution_count": null,
      "outputs": []
    },
    {
      "cell_type": "code",
      "source": [
        "import numpy as np\n",
        "import datetime\n",
        "from dateutil.relativedelta import relativedelta\n",
        "from datetime import date"
      ],
      "metadata": {
        "id": "Au_PRId1aV2L"
      },
      "execution_count": null,
      "outputs": []
    },
    {
      "cell_type": "code",
      "execution_count": null,
      "metadata": {
        "id": "0HSYBX5lysWf"
      },
      "outputs": [],
      "source": [
        "from datetime import datetime"
      ]
    },
    {
      "cell_type": "code",
      "source": [
        "pd.set_option('display.max_rows', 100)"
      ],
      "metadata": {
        "id": "rYzP9vr2bY30"
      },
      "execution_count": null,
      "outputs": []
    },
    {
      "cell_type": "code",
      "execution_count": null,
      "metadata": {
        "id": "YNIBOyEjseGV"
      },
      "outputs": [],
      "source": [
        "data = pd.read_excel(\"/content/drive/MyDrive/Oscar_fin.xlsx\")"
      ]
    },
    {
      "cell_type": "code",
      "execution_count": null,
      "metadata": {
        "id": "2mTw2SrWXP68",
        "colab": {
          "base_uri": "https://localhost:8080/"
        },
        "outputId": "4f876267-9396-49b6-cbf4-d59f71053afb"
      },
      "outputs": [
        {
          "output_type": "stream",
          "name": "stdout",
          "text": [
            "<class 'pandas.core.frame.DataFrame'>\n",
            "RangeIndex: 98 entries, 0 to 97\n",
            "Data columns (total 2 columns):\n",
            " #   Column         Non-Null Count  Dtype         \n",
            "---  ------         --------------  -----         \n",
            " 0   birth date     97 non-null     object        \n",
            " 1   ceremony date  98 non-null     datetime64[ns]\n",
            "dtypes: datetime64[ns](1), object(1)\n",
            "memory usage: 1.7+ KB\n"
          ]
        }
      ],
      "source": [
        "data.info()"
      ]
    },
    {
      "cell_type": "code",
      "execution_count": null,
      "metadata": {
        "id": "mh9WJiwWR6WI"
      },
      "outputs": [],
      "source": [
        "data['birth date'] = pd.to_datetime(data['birth date'],format=\"%Y-%m-%d\")"
      ]
    },
    {
      "cell_type": "code",
      "source": [
        "data['ceremony date'] = pd.to_datetime(data['ceremony date'],format=\"%Y-%m-%d\")"
      ],
      "metadata": {
        "id": "s1KXNjg_Zslv"
      },
      "execution_count": null,
      "outputs": []
    },
    {
      "cell_type": "code",
      "source": [
        "data['diff_years'] = data['ceremony date'] - data['birth date']\n",
        "data['diff_years']=data['diff_years']/np.timedelta64(1,'Y')\n",
        "\n",
        "print(data)"
      ],
      "metadata": {
        "id": "Y172ymfhZvKP",
        "colab": {
          "base_uri": "https://localhost:8080/"
        },
        "outputId": "94456d98-8997-4649-a4f5-8cf02de5cfb0"
      },
      "execution_count": null,
      "outputs": [
        {
          "output_type": "stream",
          "name": "stdout",
          "text": [
            "   birth date ceremony date  diff_years\n",
            "0  1895-09-30    1929-05-16   33.624236\n",
            "1  1894-04-23    1929-05-16   35.061637\n",
            "2  1886-02-02    1930-04-03   44.162440\n",
            "3  1895-09-30    1930-11-05   35.097230\n",
            "4  1899-02-23    1931-11-10   32.709775\n",
            "5  1894-04-23    1932-11-18   38.571634\n",
            "6  1886-02-02    1934-03-16   48.113240\n",
            "7  1897-05-18    1935-02-27   37.777641\n",
            "8  1894-02-01    1936-03-05   42.087107\n",
            "9  1897-05-18    1937-03-04   39.792740\n",
            "10 1898-10-03    1938-03-10   39.431337\n",
            "11 1897-05-18    1939-02-23   41.766771\n",
            "12 1889-02-23    1940-02-29   51.012683\n",
            "13 1894-02-01    1941-02-27   47.070097\n",
            "14 1894-02-01    1942-02-26   48.066695\n",
            "15 1902-07-01    1943-03-04   40.674346\n",
            "16 1886-12-24    1944-03-02   57.186664\n",
            "17 1898-10-03    1945-03-15   46.445854\n",
            "18 1906-07-22    1946-03-07   39.625728\n",
            "19 1902-07-01    1947-03-13   44.699070\n",
            "20 1909-09-07    1948-03-20   38.533303\n",
            "21 1906-08-05    1949-03-24   42.634688\n",
            "22 1909-02-11    1950-03-23   41.109674\n",
            "23 1909-12-18    1951-03-29   41.276686\n",
            "24 1904-12-18    1952-03-20   47.253537\n",
            "25 1894-02-01    1953-03-19   59.125102\n",
            "26 1907-04-29    1954-03-25   46.905823\n",
            "27 1909-09-07    1955-03-30   45.558773\n",
            "28 1920-01-30    1956-03-21   36.140372\n",
            "29 1904-12-18    1957-03-27   52.272121\n",
            "30 1908-03-25    1958-03-26   50.002396\n",
            "31 1903-02-28    1959-04-06   56.102452\n",
            "32 1902-07-01    1960-04-04   57.761624\n",
            "33 1906-07-22    1961-04-17   54.738975\n",
            "34 1914-09-10    1962-04-09   47.579348\n",
            "35 1918-10-11    1962-04-09   43.494391\n",
            "36 1908-03-25    1963-04-08   55.037407\n",
            "37 1928-06-05    1964-04-13   35.855630\n",
            "38 1899-07-07    1965-04-05   65.745361\n",
            "39 1914-09-10    1966-04-18   51.604071\n",
            "40 1907-04-29    1967-04-10   59.949212\n",
            "41 1931-11-06    1968-04-10   36.427853\n",
            "42 1906-12-30    1969-04-14   62.290122\n",
            "43 1926-02-16    1970-04-07   44.137799\n",
            "44 1920-05-30    1971-04-15   50.875788\n",
            "45 1935-08-29    1972-04-10   36.616768\n",
            "46 1927-06-23    1973-03-27   45.761378\n",
            "47 1921-12-20    1974-04-02   52.283072\n",
            "48 1939-04-07    1975-04-08   36.003477\n",
            "49 1932-02-18    1976-03-29   44.110420\n",
            "50 1935-12-21    1977-03-28   41.268472\n",
            "51 1935-11-30    1978-04-03   42.341732\n",
            "52 1939-02-03    1979-04-09   40.178785\n",
            "53 1932-09-29    1980-04-14   47.541017\n",
            "54 1936-08-18    1981-03-31   44.616933\n",
            "55 1937-03-30    1982-03-29   44.997502\n",
            "56 1923-08-29    1983-04-11   59.617925\n",
            "57 1940-05-09    1984-04-09   43.918766\n",
            "58 1932-02-18    1985-03-25   53.098968\n",
            "59 1934-07-01    1986-03-24   51.730015\n",
            "60 1946-09-15    1987-03-30   40.537451\n",
            "61 1941-03-16    1988-04-11   47.072835\n",
            "62 1942-04-06    1989-03-29   46.979746\n",
            "63 1946-09-15    1990-03-26   43.527246\n",
            "64 1955-01-18    1991-03-25   36.181441\n",
            "65 1944-02-22    1992-03-30   48.102288\n",
            "66 1930-05-31    1993-03-29   62.829490\n",
            "67 1946-12-18    1994-03-21   47.256275\n",
            "68 1951-05-14    1995-03-27   43.869484\n",
            "69 1956-01-03    1996-03-25   40.225330\n",
            "70 1954-01-06    1997-03-24   43.212386\n",
            "71 1954-08-16    1998-03-23   43.601169\n",
            "72 1946-12-18    1999-03-21   52.255693\n",
            "73 1965-08-01    2000-03-26   34.650951\n",
            "74 1963-01-14    2001-03-25   38.193803\n",
            "75 1954-03-01    2002-03-24   48.063958\n",
            "76 1933-08-18    2003-03-23   69.594858\n",
            "77 1961-10-31    2004-02-29   42.330780\n",
            "78 1930-05-31    2005-02-27   74.747599\n",
            "79 1954-10-23    2006-03-05   51.365873\n",
            "80 1942-11-17    2007-02-25   64.275105\n",
            "81 1954-11-29    2008-02-24   53.238602\n",
            "82 1957-09-21    2008-02-24   50.426771\n",
            "83 1956-10-20    2009-02-22   52.343306\n",
            "84 1951-11-28    2010-03-07   58.273613\n",
            "85 1972-10-05    2011-02-27   38.396408\n",
            "86 1967-03-29    2012-02-26   44.915364\n",
            "87 1954-10-23    2013-02-24   58.342060\n",
            "88 1961-11-28    2014-03-02   52.258431\n",
            "89 1963-08-15    2015-02-22   51.524672\n",
            "90 1963-08-15    2016-02-28   52.540435\n",
            "91 1985-01-19    2017-02-26   32.104698\n",
            "92 1964-10-09    2018-03-04   53.400138\n",
            "93 1961-11-28    2019-02-24   57.241422\n",
            "94 1969-09-14    2020-02-09   50.404868\n",
            "95 1982-03-31    2021-04-25   39.069933\n",
            "96 1954-04-30    2022-03-27   67.908307\n",
            "97        NaT    2023-03-12         NaN\n"
          ]
        }
      ]
    },
    {
      "cell_type": "code",
      "source": [],
      "metadata": {
        "id": "jQw2-Zojjjwq"
      },
      "execution_count": null,
      "outputs": []
    },
    {
      "cell_type": "code",
      "source": [
        "data.to_csv('Age_directors.csv')"
      ],
      "metadata": {
        "id": "saJgs8OjcSyh"
      },
      "execution_count": null,
      "outputs": []
    },
    {
      "cell_type": "code",
      "source": [
        "from google.colab import files"
      ],
      "metadata": {
        "id": "sgDkd2Fsczsq"
      },
      "execution_count": null,
      "outputs": []
    },
    {
      "cell_type": "code",
      "source": [
        "data.to_csv('output.csv', encoding = 'utf-8-sig') \n",
        "files.download('output.csv')"
      ],
      "metadata": {
        "id": "1VJZTjOjcu7p",
        "colab": {
          "base_uri": "https://localhost:8080/",
          "height": 17
        },
        "outputId": "75c1921a-2912-4a47-c4d4-dcac706eafcd"
      },
      "execution_count": null,
      "outputs": [
        {
          "output_type": "display_data",
          "data": {
            "text/plain": [
              "<IPython.core.display.Javascript object>"
            ],
            "application/javascript": [
              "\n",
              "    async function download(id, filename, size) {\n",
              "      if (!google.colab.kernel.accessAllowed) {\n",
              "        return;\n",
              "      }\n",
              "      const div = document.createElement('div');\n",
              "      const label = document.createElement('label');\n",
              "      label.textContent = `Downloading \"${filename}\": `;\n",
              "      div.appendChild(label);\n",
              "      const progress = document.createElement('progress');\n",
              "      progress.max = size;\n",
              "      div.appendChild(progress);\n",
              "      document.body.appendChild(div);\n",
              "\n",
              "      const buffers = [];\n",
              "      let downloaded = 0;\n",
              "\n",
              "      const channel = await google.colab.kernel.comms.open(id);\n",
              "      // Send a message to notify the kernel that we're ready.\n",
              "      channel.send({})\n",
              "\n",
              "      for await (const message of channel.messages) {\n",
              "        // Send a message to notify the kernel that we're ready.\n",
              "        channel.send({})\n",
              "        if (message.buffers) {\n",
              "          for (const buffer of message.buffers) {\n",
              "            buffers.push(buffer);\n",
              "            downloaded += buffer.byteLength;\n",
              "            progress.value = downloaded;\n",
              "          }\n",
              "        }\n",
              "      }\n",
              "      const blob = new Blob(buffers, {type: 'application/binary'});\n",
              "      const a = document.createElement('a');\n",
              "      a.href = window.URL.createObjectURL(blob);\n",
              "      a.download = filename;\n",
              "      div.appendChild(a);\n",
              "      a.click();\n",
              "      div.remove();\n",
              "    }\n",
              "  "
            ]
          },
          "metadata": {}
        },
        {
          "output_type": "display_data",
          "data": {
            "text/plain": [
              "<IPython.core.display.Javascript object>"
            ],
            "application/javascript": [
              "download(\"download_7474eece-299e-40e0-8548-05cfd8546a42\", \"output.csv\", 4240)"
            ]
          },
          "metadata": {}
        }
      ]
    },
    {
      "cell_type": "code",
      "source": [
        "sns.boxplot(data=data['diff_years'])"
      ],
      "metadata": {
        "colab": {
          "base_uri": "https://localhost:8080/",
          "height": 282
        },
        "id": "XASTVM-hj3Ux",
        "outputId": "cea1663d-b582-4d86-96cd-4be109842b20"
      },
      "execution_count": null,
      "outputs": [
        {
          "output_type": "execute_result",
          "data": {
            "text/plain": [
              "<matplotlib.axes._subplots.AxesSubplot at 0x7f62dc618790>"
            ]
          },
          "metadata": {},
          "execution_count": 32
        },
        {
          "output_type": "display_data",
          "data": {
            "text/plain": [
              "<Figure size 432x288 with 1 Axes>"
            ],
            "image/png": "[encoded data removed]"
          },
          "metadata": {
            "needs_background": "light"
          }
        }
      ]
    }
  ],
  "metadata": {
    "colab": {
      "provenance": []
    },
    "kernelspec": {
      "display_name": "Python 3",
      "name": "python3"
    },
    "language_info": {
      "name": "python"
    }
  },
  "nbformat": 4,
  "nbformat_minor": 0
}